{
  "nbformat": 4,
  "nbformat_minor": 0,
  "metadata": {
    "colab": {
      "name": "teste_notebook.ipynb",
      "provenance": [],
      "include_colab_link": true
    },
    "kernelspec": {
      "name": "python3",
      "display_name": "Python 3"
    },
    "language_info": {
      "name": "python"
    }
  },
  "cells": [
    {
      "cell_type": "markdown",
      "metadata": {
        "id": "view-in-github",
        "colab_type": "text"
      },
      "source": [
        "<a href=\"https://colab.research.google.com/github/rodrigues-ricardo/meu_colab/blob/main/teste_notebook.ipynb\" target=\"_parent\"><img src=\"https://colab.research.google.com/assets/colab-badge.svg\" alt=\"Open In Colab\"/></a>"
      ]
    },
    {
      "cell_type": "code",
      "execution_count": null,
      "metadata": {
        "colab": {
          "base_uri": "https://localhost:8080/"
        },
        "id": "yxxqZxSqmXoc",
        "outputId": "421e9a30-7e2a-46e5-f964-3a0f7d9dc2c4"
      },
      "outputs": [
        {
          "output_type": "stream",
          "name": "stdout",
          "text": [
            "Hello World\n"
          ]
        },
        {
          "output_type": "execute_result",
          "data": {
            "text/plain": [
              "4"
            ]
          },
          "metadata": {},
          "execution_count": 1
        }
      ],
      "source": [
        "teste=('Hello World')\n",
        "print(teste)\n",
        "2+2"
      ]
    },
    {
      "cell_type": "code",
      "source": [
        "from os import walk\n",
        "files = []\n",
        "path = 'D:/Users/ral045/Desktop'\n",
        "for (dirpath, dirnames, filenames) in walk(path):\n",
        "  files.extend(filenames)\n",
        "  break\n",
        "print(files)"
      ],
      "metadata": {
        "id": "6fzbQLNBwcz7",
        "outputId": "7ea2508a-34a1-4a3e-849f-adfec6fc5a34",
        "colab": {
          "base_uri": "https://localhost:8080/"
        }
      },
      "execution_count": 5,
      "outputs": [
        {
          "output_type": "stream",
          "name": "stdout",
          "text": [
            "[]\n"
          ]
        }
      ]
    }
  ]
}